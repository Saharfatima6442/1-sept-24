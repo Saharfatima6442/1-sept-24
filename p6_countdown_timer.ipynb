{
  "nbformat": 4,
  "nbformat_minor": 0,
  "metadata": {
    "colab": {
      "provenance": [],
      "authorship_tag": "ABX9TyO8XBbdbs2z6FyrF4h+9dTY",
      "include_colab_link": true
    },
    "kernelspec": {
      "name": "python3",
      "display_name": "Python 3"
    },
    "language_info": {
      "name": "python"
    }
  },
  "cells": [
    {
      "cell_type": "markdown",
      "metadata": {
        "id": "view-in-github",
        "colab_type": "text"
      },
      "source": [
        "<a href=\"https://colab.research.google.com/github/Saharfatima6442/1-sept-24/blob/main/p6_countdown_timer.ipynb\" target=\"_parent\"><img src=\"https://colab.research.google.com/assets/colab-badge.svg\" alt=\"Open In Colab\"/></a>"
      ]
    },
    {
      "cell_type": "code",
      "execution_count": null,
      "metadata": {
        "id": "Nwqs_TM2jq8p"
      },
      "outputs": [],
      "source": []
    },
    {
      "cell_type": "markdown",
      "source": [
        "# project 6"
      ],
      "metadata": {
        "id": "Z4zcAowKjrs-"
      }
    },
    {
      "cell_type": "code",
      "source": [
        "import time\n",
        "\n",
        "def countdown_timer(seconds):\n",
        "    while seconds:\n",
        "        mins, secs = divmod(seconds, 60)\n",
        "        timer = f\"{mins:02}:{secs:02}\"\n",
        "        print(timer, end=\"\\r\")\n",
        "        time.sleep(1)\n",
        "        seconds -= 1\n",
        "\n",
        "    print(\"Time's up!\")\n",
        "\n",
        "if __name__ == \"__main__\":\n",
        "    try:\n",
        "        user_seconds = int(input(\"Enter countdown time in seconds: \"))\n",
        "        countdown_timer(user_seconds)\n",
        "    except ValueError:\n",
        "        print(\"Please enter a valid number.\")\n"
      ],
      "metadata": {
        "id": "FDpf7aSWjthX",
        "outputId": "670d8dd2-c9e5-4e5e-eb75-646460058f4a",
        "colab": {
          "base_uri": "https://localhost:8080/"
        }
      },
      "execution_count": null,
      "outputs": [
        {
          "output_type": "stream",
          "name": "stdout",
          "text": [
            "Enter countdown time in seconds: 10\n",
            "Time's up!\n"
          ]
        }
      ]
    }
  ]
}