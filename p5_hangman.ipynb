{
  "nbformat": 4,
  "nbformat_minor": 0,
  "metadata": {
    "colab": {
      "provenance": [],
      "authorship_tag": "ABX9TyP3uU9e6n/5SrAKuJSf5gjw",
      "include_colab_link": true
    },
    "kernelspec": {
      "name": "python3",
      "display_name": "Python 3"
    },
    "language_info": {
      "name": "python"
    }
  },
  "cells": [
    {
      "cell_type": "markdown",
      "metadata": {
        "id": "view-in-github",
        "colab_type": "text"
      },
      "source": [
        "<a href=\"https://colab.research.google.com/github/Saharfatima6442/1-sept-24/blob/main/p5_hangman.ipynb\" target=\"_parent\"><img src=\"https://colab.research.google.com/assets/colab-badge.svg\" alt=\"Open In Colab\"/></a>"
      ]
    },
    {
      "cell_type": "code",
      "execution_count": null,
      "metadata": {
        "id": "t19-hzMBh-z9"
      },
      "outputs": [],
      "source": []
    },
    {
      "cell_type": "markdown",
      "source": [
        "# project 5"
      ],
      "metadata": {
        "id": "_GAs0lI7iNNG"
      }
    },
    {
      "cell_type": "code",
      "source": [
        "import random\n",
        "\n",
        "def choose_word():\n",
        "    words = ['sweet', 'hangman', 'developer', 'challenge', 'rocket', 'bear']\n",
        "    return random.choice(words)\n",
        "\n",
        "def display_word(word, guessed_letters):\n",
        "    return ' '.join(letter if letter in guessed_letters else '_' for letter in word)\n",
        "\n",
        "def hangman():\n",
        "    print(\"Welcome to Hangman!\")\n",
        "    word_to_guess = choose_word()\n",
        "    guessed_letters = set()\n",
        "    attempts = 6\n",
        "\n",
        "    while attempts > 0:\n",
        "        print(f\"\\nWord: {display_word(word_to_guess, guessed_letters)}\")\n",
        "        print(f\"Attempts left: {attempts}\")\n",
        "\n",
        "        guess = input(\"Guess a letter: \").lower()\n",
        "\n",
        "        if len(guess) != 1 or not guess.isalpha():\n",
        "            print(\"Invalid input. Please enter a single letter.\")\n",
        "            continue\n",
        "\n",
        "        if guess in guessed_letters:\n",
        "            print(\"You already guessed that letter. Try again.\")\n",
        "            continue\n",
        "\n",
        "        guessed_letters.add(guess)\n",
        "\n",
        "        if guess not in word_to_guess:\n",
        "            attempts -= 1\n",
        "            print(\"Incorrect guess!\")\n",
        "\n",
        "        if set(word_to_guess).issubset(guessed_letters):\n",
        "            print(f\"\\nCongratulations! You guessed the word: {word_to_guess}\")\n",
        "            break\n",
        "    else:\n",
        "        print(f\"\\nGame Over! The word was: {word_to_guess}\")\n",
        "\n",
        "if __name__ == \"__main__\":\n",
        "    hangman()\n"
      ],
      "metadata": {
        "colab": {
          "base_uri": "https://localhost:8080/"
        },
        "id": "dAQ2nV9iieTy",
        "outputId": "12181287-a19b-4242-b883-d31ee96c601b"
      },
      "execution_count": 2,
      "outputs": [
        {
          "output_type": "stream",
          "name": "stdout",
          "text": [
            "Welcome to Hangman!\n",
            "\n",
            "Word: _ _ _ _\n",
            "Attempts left: 6\n",
            "Guess a letter: g\n",
            "Incorrect guess!\n",
            "\n",
            "Word: _ _ _ _\n",
            "Attempts left: 5\n",
            "Guess a letter: b\n",
            "\n",
            "Word: b _ _ _\n",
            "Attempts left: 5\n",
            "Guess a letter: e\n",
            "\n",
            "Word: b e _ _\n",
            "Attempts left: 5\n",
            "Guess a letter: a\n",
            "\n",
            "Word: b e a _\n",
            "Attempts left: 5\n",
            "Guess a letter: r\n",
            "\n",
            "Congratulations! You guessed the word: bear\n"
          ]
        }
      ]
    }
  ]
}