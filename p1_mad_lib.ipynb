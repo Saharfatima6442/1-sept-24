{
  "nbformat": 4,
  "nbformat_minor": 0,
  "metadata": {
    "colab": {
      "provenance": [],
      "toc_visible": true,
      "authorship_tag": "ABX9TyMErxumTgfFewfaREUEVjL1",
      "include_colab_link": true
    },
    "kernelspec": {
      "name": "python3",
      "display_name": "Python 3"
    },
    "language_info": {
      "name": "python"
    }
  },
  "cells": [
    {
      "cell_type": "markdown",
      "metadata": {
        "id": "view-in-github",
        "colab_type": "text"
      },
      "source": [
        "<a href=\"https://colab.research.google.com/github/Saharfatima6442/1-sept-24/blob/main/p1_mad_lib.ipynb\" target=\"_parent\"><img src=\"https://colab.research.google.com/assets/colab-badge.svg\" alt=\"Open In Colab\"/></a>"
      ]
    },
    {
      "cell_type": "code",
      "source": [],
      "metadata": {
        "id": "vh22jxisNVJ7"
      },
      "execution_count": null,
      "outputs": []
    },
    {
      "cell_type": "markdown",
      "source": [
        "# project 5"
      ],
      "metadata": {
        "id": "ejHl0uEXHkU9"
      }
    },
    {
      "cell_type": "code",
      "source": [
        "import random\n",
        "\n",
        "def choose_word():\n",
        "    words = ['python', 'hangman', 'developer', 'challenge', 'computer', 'programming']\n",
        "    return random.choice(words)\n",
        "\n",
        "def display_word(word, guessed_letters):\n",
        "    return ' '.join(letter if letter in guessed_letters else '_' for letter in word)\n",
        "\n",
        "def hangman():\n",
        "    print(\"Welcome to Hangman!\")\n",
        "    word_to_guess = choose_word()\n",
        "    guessed_letters = set()\n",
        "    attempts = 6\n",
        "\n",
        "    while attempts > 0:\n",
        "        print(f\"\\nWord: {display_word(word_to_guess, guessed_letters)}\")\n",
        "        print(f\"Attempts left: {attempts}\")\n",
        "\n",
        "        guess = input(\"Guess a letter: \").lower()\n",
        "\n",
        "        if len(guess) != 1 or not guess.isalpha():\n",
        "            print(\"Invalid input. Please enter a single letter.\")\n",
        "            continue\n",
        "\n",
        "        if guess in guessed_letters:\n",
        "            print(\"You already guessed that letter. Try again.\")\n",
        "            continue\n",
        "\n",
        "        guessed_letters.add(guess)\n",
        "\n",
        "        if guess not in word_to_guess:\n",
        "            attempts -= 1\n",
        "            print(\"Incorrect guess!\")\n",
        "\n",
        "        if set(word_to_guess).issubset(guessed_letters):\n",
        "            print(f\"\\nCongratulations! You guessed the word: {word_to_guess}\")\n",
        "            break\n",
        "    else:\n",
        "        print(f\"\\nGame Over! The word was: {word_to_guess}\")\n",
        "\n",
        "if __name__ == \"__main__\":\n",
        "    hangman()\n"
      ],
      "metadata": {
        "colab": {
          "base_uri": "https://localhost:8080/"
        },
        "id": "c8U2LfHJHnX1",
        "outputId": "3bbc53b8-6f07-4c3c-9bce-200aa53d498a"
      },
      "execution_count": null,
      "outputs": [
        {
          "output_type": "stream",
          "name": "stdout",
          "text": [
            "Welcome to Hangman!\n",
            "\n",
            "Word: _ _ _ _ _ _\n",
            "Attempts left: 6\n",
            "Guess a letter: y\n",
            "\n",
            "Word: _ y _ _ _ _\n",
            "Attempts left: 6\n",
            "Guess a letter: w\n",
            "Incorrect guess!\n",
            "\n",
            "Word: _ y _ _ _ _\n",
            "Attempts left: 5\n",
            "Guess a letter: a\n",
            "Incorrect guess!\n",
            "\n",
            "Word: _ y _ _ _ _\n",
            "Attempts left: 4\n",
            "Guess a letter: t\n",
            "\n",
            "Word: _ y t _ _ _\n",
            "Attempts left: 4\n",
            "Guess a letter: l\n",
            "Incorrect guess!\n",
            "\n",
            "Word: _ y t _ _ _\n",
            "Attempts left: 3\n",
            "Guess a letter: e\n",
            "Incorrect guess!\n",
            "\n",
            "Word: _ y t _ _ _\n",
            "Attempts left: 2\n",
            "Guess a letter: a\n",
            "You already guessed that letter. Try again.\n",
            "\n",
            "Word: _ y t _ _ _\n",
            "Attempts left: 2\n",
            "Guess a letter: f\n",
            "Incorrect guess!\n",
            "\n",
            "Word: _ y t _ _ _\n",
            "Attempts left: 1\n",
            "Guess a letter: m\n",
            "Incorrect guess!\n",
            "\n",
            "Game Over! The word was: python\n"
          ]
        }
      ]
    }
  ]
}