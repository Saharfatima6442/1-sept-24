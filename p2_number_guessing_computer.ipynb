{
  "nbformat": 4,
  "nbformat_minor": 0,
  "metadata": {
    "colab": {
      "provenance": [],
      "authorship_tag": "ABX9TyNHwl0XHc8vvibrjuDJbFDe",
      "include_colab_link": true
    },
    "kernelspec": {
      "name": "python3",
      "display_name": "Python 3"
    },
    "language_info": {
      "name": "python"
    }
  },
  "cells": [
    {
      "cell_type": "markdown",
      "metadata": {
        "id": "view-in-github",
        "colab_type": "text"
      },
      "source": [
        "<a href=\"https://colab.research.google.com/github/Saharfatima6442/1-sept-24/blob/main/p2_number_guessing_computer.ipynb\" target=\"_parent\"><img src=\"https://colab.research.google.com/assets/colab-badge.svg\" alt=\"Open In Colab\"/></a>"
      ]
    },
    {
      "cell_type": "markdown",
      "source": [
        "# Project 2"
      ],
      "metadata": {
        "id": "5ioU3_clPK3x"
      }
    },
    {
      "cell_type": "code",
      "source": [
        "import random\n",
        "\n",
        "def number_guessing_game():\n",
        "    print(\"Welcome to the Number Guessing Game!\")\n",
        "    lower_bound = 1\n",
        "    upper_bound = 100\n",
        "    secret_number = random.randint(lower_bound, upper_bound)\n",
        "    attempts = 0\n",
        "\n",
        "    while True:\n",
        "        try:\n",
        "            guess = int(input(f\"Guess a number between {lower_bound} and {upper_bound}: \"))\n",
        "            attempts += 1\n",
        "\n",
        "            if guess < lower_bound or guess > upper_bound:\n",
        "                print(\"Out of bounds! Try again.\")\n",
        "            elif guess < secret_number:\n",
        "                print(\"Too low! Try again.\")\n",
        "            elif guess > secret_number:\n",
        "                print(\"Too high! Try again.\")\n",
        "            else:\n",
        "                print(f\"Congratulations! You guessed the number {secret_number} in {attempts} attempts.\")\n",
        "                break\n",
        "        except ValueError:\n",
        "            print(\"Invalid input. Please enter a valid number.\")\n",
        "\n",
        "if __name__ == \"__main__\":\n",
        "    number_guessing_game()\n"
      ],
      "metadata": {
        "colab": {
          "base_uri": "https://localhost:8080/"
        },
        "id": "xIkIwiXcPOnB",
        "outputId": "d00b4fb8-2c9d-4a00-b72d-7242508f8759"
      },
      "execution_count": 1,
      "outputs": [
        {
          "output_type": "stream",
          "name": "stdout",
          "text": [
            "Welcome to the Number Guessing Game!\n",
            "Guess a number between 1 and 100: 56\n",
            "Too high! Try again.\n",
            "Guess a number between 1 and 100: 50\n",
            "Too high! Try again.\n",
            "Guess a number between 1 and 100: 40\n",
            "Too high! Try again.\n",
            "Guess a number between 1 and 100: 30\n",
            "Too high! Try again.\n",
            "Guess a number between 1 and 100: 20\n",
            "Too low! Try again.\n",
            "Guess a number between 1 and 100: 21\n",
            "Congratulations! You guessed the number 21 in 6 attempts.\n"
          ]
        }
      ]
    }
  ]
}