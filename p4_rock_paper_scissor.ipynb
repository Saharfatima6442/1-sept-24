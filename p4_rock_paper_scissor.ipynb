{
  "nbformat": 4,
  "nbformat_minor": 0,
  "metadata": {
    "colab": {
      "provenance": [],
      "authorship_tag": "ABX9TyO+0KFprusekAxb+kXSLQtZ",
      "include_colab_link": true
    },
    "kernelspec": {
      "name": "python3",
      "display_name": "Python 3"
    },
    "language_info": {
      "name": "python"
    }
  },
  "cells": [
    {
      "cell_type": "markdown",
      "metadata": {
        "id": "view-in-github",
        "colab_type": "text"
      },
      "source": [
        "<a href=\"https://colab.research.google.com/github/Saharfatima6442/1-sept-24/blob/main/p4_rock_paper_scissor.ipynb\" target=\"_parent\"><img src=\"https://colab.research.google.com/assets/colab-badge.svg\" alt=\"Open In Colab\"/></a>"
      ]
    },
    {
      "cell_type": "code",
      "execution_count": null,
      "metadata": {
        "id": "FgVMnF1jQsmT"
      },
      "outputs": [],
      "source": []
    },
    {
      "cell_type": "markdown",
      "source": [
        "# project 4\n"
      ],
      "metadata": {
        "id": "JGQbpgXjQ2XP"
      }
    },
    {
      "cell_type": "code",
      "source": [
        "import random\n",
        "\n",
        "def rock_paper_scissors():\n",
        "    print(\"Welcome to Rock, Paper, Scissors!\")\n",
        "    choices = [\"rock\", \"paper\", \"scissors\"]\n",
        "\n",
        "    while True:\n",
        "        user_choice = input(\"Enter rock, paper, or scissors (or 'quit' to exit): \").lower()\n",
        "        if user_choice == 'quit':\n",
        "            print(\"Thanks for playing! Goodbye!\")\n",
        "            break\n",
        "\n",
        "        if user_choice not in choices:\n",
        "            print(\"Invalid choice. Please try again.\")\n",
        "            continue\n",
        "\n",
        "        computer_choice = random.choice(choices)\n",
        "        print(f\"Computer chose: {computer_choice}\")\n",
        "\n",
        "        if user_choice == computer_choice:\n",
        "            print(\"It's a tie!\")\n",
        "        elif (user_choice == \"rock\" and computer_choice == \"scissors\") or \\\n",
        "             (user_choice == \"paper\" and computer_choice == \"rock\") or \\\n",
        "             (user_choice == \"scissors\" and computer_choice == \"paper\"):\n",
        "            print(\"You win!\")\n",
        "        else:\n",
        "            print(\"Computer wins!\")\n",
        "\n",
        "if __name__ == \"__main__\":\n",
        "    rock_paper_scissors()\n"
      ],
      "metadata": {
        "colab": {
          "base_uri": "https://localhost:8080/"
        },
        "id": "3Q6hMBchQ4DQ",
        "outputId": "083cbe83-3d66-4610-8edf-9e3b731e7737"
      },
      "execution_count": 1,
      "outputs": [
        {
          "output_type": "stream",
          "name": "stdout",
          "text": [
            "Welcome to Rock, Paper, Scissors!\n",
            "Enter rock, paper, or scissors (or 'quit' to exit): rock\n",
            "Computer chose: scissors\n",
            "You win!\n",
            "Enter rock, paper, or scissors (or 'quit' to exit): scissors\n",
            "Computer chose: rock\n",
            "Computer wins!\n",
            "Enter rock, paper, or scissors (or 'quit' to exit): quit\n",
            "Thanks for playing! Goodbye!\n"
          ]
        }
      ]
    }
  ]
}