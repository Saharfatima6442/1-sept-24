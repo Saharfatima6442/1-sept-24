{
  "nbformat": 4,
  "nbformat_minor": 0,
  "metadata": {
    "colab": {
      "provenance": [],
      "authorship_tag": "ABX9TyPzf54zQWNFrbjZWsFFH3q9",
      "include_colab_link": true
    },
    "kernelspec": {
      "name": "python3",
      "display_name": "Python 3"
    },
    "language_info": {
      "name": "python"
    }
  },
  "cells": [
    {
      "cell_type": "markdown",
      "metadata": {
        "id": "view-in-github",
        "colab_type": "text"
      },
      "source": [
        "<a href=\"https://colab.research.google.com/github/Saharfatima6442/1-sept-24/blob/main/p3_number_guessing_user.ipynb\" target=\"_parent\"><img src=\"https://colab.research.google.com/assets/colab-badge.svg\" alt=\"Open In Colab\"/></a>"
      ]
    },
    {
      "cell_type": "markdown",
      "source": [
        "# project 3"
      ],
      "metadata": {
        "id": "_lgntx5yP92r"
      }
    },
    {
      "cell_type": "code",
      "source": [
        "import random\n",
        "\n",
        "def computer_guess_number():\n",
        "    print(\"Welcome to the Number Guessing Game!\")\n",
        "    lower_bound = 1\n",
        "    upper_bound = 10\n",
        "    user_number = int(input(f\"Select a number between {lower_bound} and {upper_bound} for the computer to guess: \"))\n",
        "    attempts = 0\n",
        "\n",
        "    while True:\n",
        "        computer_guess = random.randint(lower_bound, upper_bound)\n",
        "        attempts += 1\n",
        "        print(f\"Computer guesses: {computer_guess}\")\n",
        "\n",
        "        if computer_guess < user_number:\n",
        "            print(\"Too low!\")\n",
        "            lower_bound = computer_guess + 1\n",
        "        elif computer_guess > user_number:\n",
        "            print(\"Too high!\")\n",
        "            upper_bound = computer_guess - 1\n",
        "        else:\n",
        "            print(f\"Computer guessed your number {user_number} in {attempts} attempts!\")\n",
        "            break\n",
        "\n",
        "if __name__ == \"__main__\":\n",
        "    computer_guess_number()\n"
      ],
      "metadata": {
        "colab": {
          "base_uri": "https://localhost:8080/"
        },
        "id": "Zv12R9lrQBCd",
        "outputId": "4da2885b-a57e-4b43-b37c-e201345ee85c"
      },
      "execution_count": 1,
      "outputs": [
        {
          "output_type": "stream",
          "name": "stdout",
          "text": [
            "Welcome to the Number Guessing Game!\n",
            "Select a number between 1 and 10 for the computer to guess: 7\n",
            "Computer guesses: 6\n",
            "Too low!\n",
            "Computer guesses: 7\n",
            "Computer guessed your number 7 in 2 attempts!\n"
          ]
        }
      ]
    }
  ]
}